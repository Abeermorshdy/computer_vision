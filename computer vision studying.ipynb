{
 "cells": [
  {
   "cell_type": "code",
   "execution_count": 1,
   "id": "ff7962a1",
   "metadata": {},
   "outputs": [
    {
     "name": "stdout",
     "output_type": "stream",
     "text": [
      "Collecting caer\n",
      "  Downloading caer-2.0.8-py3-none-any.whl (809 kB)\n",
      "     -------------------------------------- 809.5/809.5 kB 1.5 MB/s eta 0:00:00\n",
      "Requirement already satisfied: numpy in c:\\users\\apeer\\anaconda3\\lib\\site-packages (from caer) (1.21.5)\n",
      "Requirement already satisfied: opencv-contrib-python in c:\\users\\apeer\\anaconda3\\lib\\site-packages (from caer) (4.6.0.66)\n",
      "Requirement already satisfied: typing-extensions in c:\\users\\apeer\\anaconda3\\lib\\site-packages (from caer) (4.1.1)\n",
      "Collecting mypy\n",
      "  Downloading mypy-0.991-cp39-cp39-win_amd64.whl (8.7 MB)\n",
      "     ---------------------------------------- 8.7/8.7 MB 1.9 MB/s eta 0:00:00\n",
      "Requirement already satisfied: tomli>=1.1.0 in c:\\users\\apeer\\anaconda3\\lib\\site-packages (from mypy->caer) (1.2.2)\n",
      "Requirement already satisfied: mypy-extensions>=0.4.3 in c:\\users\\apeer\\anaconda3\\lib\\site-packages (from mypy->caer) (0.4.3)\n",
      "Installing collected packages: mypy, caer\n",
      "Successfully installed caer-2.0.8 mypy-0.991\n",
      "Note: you may need to restart the kernel to use updated packages.\n"
     ]
    }
   ],
   "source": [
    "pip install --upgrade caer"
   ]
  },
  {
   "cell_type": "code",
   "execution_count": 1,
   "id": "349ef048",
   "metadata": {},
   "outputs": [],
   "source": [
    "import cv2 as cv"
   ]
  },
  {
   "cell_type": "code",
   "execution_count": 2,
   "id": "79a08fcd",
   "metadata": {},
   "outputs": [],
   "source": [
    "img = cv.imread('images/download (1).jpg')"
   ]
  },
  {
   "cell_type": "code",
   "execution_count": 9,
   "id": "f8a7bb48",
   "metadata": {},
   "outputs": [],
   "source": [
    "cv.imshow('image',img)\n",
    "cv.waitKey(0)\n",
    "#It waits for x milliseconds for a key press on a OpenCV window\n",
    "#Note that it does not listen on stdin for console input. If a key was pressed during that time,\n",
    "#it returns the key's ASCII code. Otherwise, it returns -1. \n",
    "#(If x <= 0, it waits indefinitely for the key press.)\n",
    "cv.destroyAllWindows() "
   ]
  },
  {
   "cell_type": "code",
   "execution_count": 2,
   "id": "04847be9",
   "metadata": {},
   "outputs": [],
   "source": [
    "#IN CASE WE NEED TO READ CAMERA TO USE  vid_capture = cv2.VideoCapture(0, cv2.CAP_DSHOW)\n",
    "\n",
    "capture = cv.VideoCapture('videos/videoplayback (1).mp4')\n",
    "while True :\n",
    "    #cap.read() returns a bool (True/False). If the frame is read correctly, it will be True. \n",
    "    isTrue, frame = capture.read()\n",
    "    cv.imshow('video',frame)\n",
    "    if cv.waitKey(20) & 0xFF==ord('A'):\n",
    "        break\n",
    "capture.release()\n",
    "cv.destroyAllWindows()"
   ]
  },
  {
   "cell_type": "markdown",
   "id": "74192ff6",
   "metadata": {},
   "source": [
    "After finishig the video time , error will arise saying that no size/frame to read in this location , because all frame will be already read before. "
   ]
  },
  {
   "cell_type": "markdown",
   "id": "c23b450d",
   "metadata": {},
   "source": [
    "- For example, I can check the frame width and height by cap.get(cv.CAP_PROP_FRAME_WIDTH) and cap.get(cv.CAP_PROP_FRAME_HEIGHT). It gives me 640x480 by default. But I want to modify it to 320x240. Just use ret = cap.set(cv.CAP_PROP_FRAME_WIDTH,320) and ret = cap.set(cv.CAP_PROP_FRAME_HEIGHT,240)."
   ]
  },
  {
   "cell_type": "markdown",
   "id": "c2fdf565",
   "metadata": {},
   "source": [
    "- Playing video from file is the same as capturing it from camera, just change the camera index to a video file name. Also while displaying the frame, use appropriate time for cv.waitKey(). If it is too less, video will be very fast and if it is too high, video will be slow (Well, that is how you can display videos in slow motion). 25 milliseconds will be OK in normal cases."
   ]
  },
  {
   "cell_type": "markdown",
   "id": "18160a8f",
   "metadata": {},
   "source": [
    "- Scaling is just resizing of the image. OpenCV comes with a function cv.resize() for this purpose. The size of the image can be specified manually, or you can specify the scaling factor. Different interpolation methods are used. Preferable interpolation methods are cv.INTER_AREA for shrinking and cv.INTER_CUBIC (slow) & cv.INTER_LINEAR for zooming. By default, the interpolation method cv.INTER_LINEAR is used for all resizing purposes. You can resize an input image with either of following methods"
   ]
  },
  {
   "cell_type": "code",
   "execution_count": null,
   "id": "28502c3c",
   "metadata": {},
   "outputs": [],
   "source": [
    "#In this case, you are retrieving the frame width and height, by specifying 3 (CAP_PROP_FRAME_WIDTH)\n",
    "#and 4 (CAP_PROP_FRAME_HEIGHT).\n",
    "#You will use these dimensions further below, when writing the video file to disk.\n",
    "# Obtain frame size information using get() method\n",
    "#fps: Frame rate of the created video stream\n",
    "\n",
    "frame_width = int(vid_capture.get(3)) #only with life video\n",
    "frame_height = int(vid_capture.get(4))  or frame.shape(0)\n",
    "frame_size = (frame_width,frame_height)\n",
    "fps = 20\n",
    "frame_width = frame.shape(1)*0.5  #rescale works with every thing\n",
    "frame_height = frame.shape(0)*0.5  #rescale works with every thing"
   ]
  },
  {
   "cell_type": "code",
   "execution_count": 32,
   "id": "b384cf5a",
   "metadata": {},
   "outputs": [],
   "source": [
    "# import the opencv library\n",
    "import cv2\n",
    "\n",
    "\n",
    "# define a video capture object\n",
    "vid = cv2.VideoCapture(0)\n",
    "\n",
    "while(True):\n",
    "    \n",
    "    # Capture the video frame\n",
    "    # by frame\n",
    "    ret, frame = vid.read()\n",
    "    if ret == True:\n",
    "    # if frame is read correctly ret is True\n",
    "\n",
    "    # Display the resulting frame\n",
    "        cv2.imshow('frame', frame)\n",
    "    \n",
    "    # the 'q' button is set as the\n",
    "    # quitting button you may use any\n",
    "    # desired button of your choice\n",
    "        if cv2.waitKey(1) & 0xFF == ord('q'):\n",
    "            break\n",
    "            \n",
    "        else :\n",
    "            break\n",
    "\n",
    "# After the loop release the cap object\n",
    "vid.release()\n",
    "# Destroy all the windows\n",
    "cv2.destroyAllWindows()"
   ]
  },
  {
   "cell_type": "code",
   "execution_count": 33,
   "id": "203581c9",
   "metadata": {},
   "outputs": [
    {
     "name": "stdout",
     "output_type": "stream",
     "text": [
      "The video was successfully saved\n"
     ]
    }
   ],
   "source": [
    "# Python program to save a\n",
    "# video using OpenCV\n",
    "\n",
    "\n",
    "import cv2\n",
    "\n",
    "\n",
    "# Create an object to read\n",
    "# from camera\n",
    "video = cv2.VideoCapture(0)\n",
    "\n",
    "# We need to check if camera\n",
    "# is opened previously or not\n",
    "if (video.isOpened() == False):\n",
    "\tprint(\"Error reading video file\")\n",
    "\n",
    "# We need to set resolutions.\n",
    "# so, convert them from float to integer.\n",
    "frame_width = int(video.get(3))\n",
    "frame_height = int(video.get(4))\n",
    "\n",
    "size = (frame_width, frame_height)\n",
    "\n",
    "# Below VideoWriter object will create\n",
    "# a frame of above defined The output\n",
    "# is stored in 'filename.avi' file.\n",
    "result = cv2.VideoWriter('filename.avi',\n",
    "\t\t\t\t\t\tcv2.VideoWriter_fourcc(*'MJPG'),\n",
    "\t\t\t\t\t\t10, size)\n",
    "\t\n",
    "while(True):\n",
    "\tret, frame = video.read()\n",
    "\n",
    "\tif ret == True:\n",
    "\n",
    "\t\t# Write the frame into the\n",
    "\t\t# file 'filename.avi'\n",
    "\t\tresult.write(frame)\n",
    "\n",
    "\t\t# Display the frame\n",
    "\t\t# saved in the file\n",
    "\t\tcv2.imshow('Frame', frame)\n",
    "\n",
    "\t\t# Press S on keyboard\n",
    "\t\t# to stop the process\n",
    "\t\tif cv2.waitKey(1) & 0xFF == ord('s'):\n",
    "\t\t\tbreak\n",
    "\n",
    "\t# Break the loop\n",
    "\telse:\n",
    "\t\tbreak\n",
    "\n",
    "# When everything done, release\n",
    "# the video capture and video\n",
    "# write objects\n",
    "video.release()\n",
    "result.release()\n",
    "\t\n",
    "# Closes all the frames\n",
    "cv2.destroyAllWindows()\n",
    "\n",
    "print(\"The video was successfully saved\")"
   ]
  },
  {
   "cell_type": "markdown",
   "id": "38ffeebc",
   "metadata": {},
   "source": [
    "### draw shapes"
   ]
  },
  {
   "cell_type": "code",
   "execution_count": 5,
   "id": "5897c471",
   "metadata": {},
   "outputs": [],
   "source": [
    "import numpy as np\n",
    "blank = np.zeros((200,200) ) #may you need that -- >  dtype= 'unit8'\n",
    "cv.imshow(\"blank\", blank)\n",
    "cv.waitKey(0)\n",
    "cv.destroyAllWindows()"
   ]
  },
  {
   "cell_type": "code",
   "execution_count": 7,
   "id": "d9ca2821",
   "metadata": {},
   "outputs": [],
   "source": [
    "blank = np.zeros((200,200,3) ) \n",
    "blank[:]=0,0,255 #Red color image\n",
    "cv.imshow(\"blank\", blank)\n",
    "cv.waitKey(0)\n",
    "cv.destroyAllWindows()"
   ]
  },
  {
   "cell_type": "code",
   "execution_count": 8,
   "id": "0badbb15",
   "metadata": {},
   "outputs": [],
   "source": [
    "blank = np.zeros((200,200,3) ) \n",
    "blank[100:150 , 100:150]=0,0,255 #Red rectangular color in black image\n",
    "cv.imshow(\"blank\", blank)\n",
    "cv.waitKey(0)\n",
    "cv.destroyAllWindows()"
   ]
  },
  {
   "cell_type": "code",
   "execution_count": 23,
   "id": "0bca087a",
   "metadata": {},
   "outputs": [],
   "source": [
    "blank = np.zeros((200,200,3) ) \n",
    "cv.rectangle(blank, (0,0) ,(100,100) ,(255,0,0) ,thickness=2) # blue rectangle in black image \n",
    "#you can fill rectangle shape by assign thickness=-1 or FILLED\n",
    "cv.circle(blank, (blank.shape[1]//2,blank.shape[0]//2),20,(255,0,0),thickness=-1)\n",
    "cv.rectangle(blank, (0,0) ,(200,200) ,(0,0,255) ,thickness=2)\n",
    "cv.putText(blank , \"Hello world\" ,(0,150),cv.FONT_HERSHEY_TRIPLEX ,1.0 ,(255,255,255) ,1)\n",
    "cv.imshow(\"blank\", blank)\n",
    "cv.waitKey(0)\n",
    "cv.destroyAllWindows()"
   ]
  },
  {
   "cell_type": "code",
   "execution_count": 50,
   "id": "e49c368a",
   "metadata": {},
   "outputs": [],
   "source": [
    "# polylines\n",
    "pts = np.array([[100,50],[200,300],[350,200],[350,100]], np.int32)  \n",
    "#pts = pts.reshape((-1,1,2))  \n",
    "cv.polylines(img, [pts], True, (0,255,255), 3)\n",
    "cv.imshow(\"img\", img)\n",
    "cv.waitKey(0)\n",
    "cv.destroyAllWindows()"
   ]
  },
  {
   "cell_type": "markdown",
   "id": "01a99ac8",
   "metadata": {},
   "source": [
    "### Essential Functions "
   ]
  },
  {
   "cell_type": "code",
   "execution_count": 25,
   "id": "25911726",
   "metadata": {},
   "outputs": [],
   "source": [
    "# BGR TO GRAY image\n",
    "img = cv.imread('images/download (1).jpg')\n",
    "gray=cv.cvtColor(img , cv.COLOR_BGR2GRAY)\n",
    "cv.imshow(\"GRAY\", gray)\n",
    "cv.waitKey(0)\n",
    "cv.destroyAllWindows()"
   ]
  },
  {
   "cell_type": "code",
   "execution_count": 24,
   "id": "43209691",
   "metadata": {},
   "outputs": [],
   "source": [
    "#BLUR\n",
    "img = cv.imread('images/download (1).jpg')\n",
    "blured_img_avg=cv.blur(img , (3,3) )\n",
    "blured_img_guess=cv.GaussianBlur(img , (3,3) ,cv.BORDER_DEFAULT)\n",
    "blured_img_bilt=cv.bilateralFilter(img , 10 , 35 , 25) #more efficient\n",
    "cv.imshow(\"blured_img_avg\", blured_img_avg)\n",
    "cv.imshow(\"blured_img_guess\", blured_img_guess)\n",
    "cv.imshow(\"blured_img_bilt\", blured_img_bilt)\n",
    "cv.waitKey(0)\n",
    "cv.destroyAllWindows()\n",
    "#blured_img=cv.GaussianBlur(img , (7,7) when you increase the num it will become more blured ,cv.BORDER_DEFAULT)"
   ]
  },
  {
   "cell_type": "code",
   "execution_count": 36,
   "id": "b29b5972",
   "metadata": {},
   "outputs": [],
   "source": [
    "#Edge Detector Canny\n",
    "img = cv.imread('images/download (1).jpg')\n",
    "canny=cv.Canny(img ,150,170 )\n",
    "cv.imshow(\"canny\", canny)\n",
    "cv.waitKey(0)\n",
    "cv.destroyAllWindows()"
   ]
  },
  {
   "cell_type": "code",
   "execution_count": 38,
   "id": "1ac7b332",
   "metadata": {},
   "outputs": [],
   "source": [
    "#dilate image\n",
    "dilate=cv.dilate(canny, (3,3) , iterations = 3 )\n",
    "cv.imshow(\"dilate\", dilate)\n",
    "cv.waitKey(0)\n",
    "cv.destroyAllWindows()"
   ]
  },
  {
   "cell_type": "code",
   "execution_count": 39,
   "id": "8da8c0f0",
   "metadata": {},
   "outputs": [],
   "source": [
    "#eroding image the opposite of dilate\n",
    "eroding=cv.erode(dilate, (3,3) , iterations = 3 )\n",
    "cv.imshow(\"eroding\", eroding)\n",
    "cv.waitKey(0)\n",
    "cv.destroyAllWindows()"
   ]
  },
  {
   "cell_type": "code",
   "execution_count": 67,
   "id": "4d8ede66",
   "metadata": {},
   "outputs": [],
   "source": [
    "#resize\n",
    "#img.shape = (183, 275, 3)\n",
    "resized_img =cv.resize(img ,(50,50) , interpolation = cv.INTER_AREA)\n",
    "cv.imshow(\"resized_img\", resized_img)\n",
    "cv.waitKey(0)\n",
    "cv.destroyAllWindows()"
   ]
  },
  {
   "cell_type": "code",
   "execution_count": 48,
   "id": "42e81717",
   "metadata": {},
   "outputs": [],
   "source": [
    "#Crop image\n",
    "resized_img =img[80:150,80:150]\n",
    "#SAVE IMAGE\n",
    "#cv2.imwrite('newImage.png',resized_img)\n",
    "cv.imshow(\"resized_img\", resized_img)\n",
    "cv.waitKey(0)\n",
    "cv.destroyAllWindows()"
   ]
  },
  {
   "cell_type": "markdown",
   "id": "7ea47f25",
   "metadata": {},
   "source": [
    "### Image Transformation "
   ]
  },
  {
   "cell_type": "code",
   "execution_count": 75,
   "id": "b84ae122",
   "metadata": {},
   "outputs": [],
   "source": [
    "#new size of image\n",
    "img = cv.imread('images/download (1).jpg')\n",
    "rows,cols = img.shape[:2] #height,width\n",
    "#Right = x // Down = y\n",
    "M = np.float32([ [1,0,100],[0,1,50] ])\n",
    "dst = cv.warpAffine(img,M,(cols,rows))\n",
    "cv.imshow('img',dst)\n",
    "cv.waitKey(0)\n",
    "cv.destroyAllWindows()"
   ]
  },
  {
   "cell_type": "markdown",
   "id": "932e930f",
   "metadata": {},
   "source": [
    "- The third argument of the cv.warpAffine() function is the size of the output image, which should be in the form of **(width, height)**. Remember width = number of columns, and height = number of rows."
   ]
  },
  {
   "cell_type": "code",
   "execution_count": 74,
   "id": "ce72d960",
   "metadata": {},
   "outputs": [],
   "source": [
    "#Rotation\n",
    "rows,cols = img.shape[:2]\n",
    "# cols-1 and rows-1 are the coordinate limits.\n",
    "M = cv.getRotationMatrix2D( ( (cols-1)//2 , (rows-1)//2 ),90,1)\n",
    "dst = cv.warpAffine(img,M,(cols,rows))\n",
    "cv.imshow('img',dst)\n",
    "cv.waitKey(0)\n",
    "cv.destroyAllWindows()"
   ]
  },
  {
   "cell_type": "code",
   "execution_count": 78,
   "id": "b9c4534a",
   "metadata": {},
   "outputs": [],
   "source": [
    "#Flip  (0>x) (1>y) (-1>x,y)\n",
    "img = cv.imread('images/download (1).jpg')\n",
    "fliped = cv.flip(img,-1)\n",
    "cv.imshow('fliped',fliped)\n",
    "cv.waitKey(0)\n",
    "cv.destroyAllWindows()"
   ]
  },
  {
   "cell_type": "code",
   "execution_count": 8,
   "id": "318b23db",
   "metadata": {},
   "outputs": [],
   "source": [
    "#Affine Transformation\n",
    "import matplotlib as plt\n",
    "img = cv.imread('images/download (1).jpg')\n",
    "rows,cols,ch = img.shape\n",
    "pts1 = np.float32([[3,3],[5,3],[3,5]])\n",
    "pts2 = np.float32([[1,5],[1,5],[5,1]])\n",
    "M = cv.getAffineTransform(pts1,pts2)\n",
    "dst = cv.warpAffine(img,M,(cols,rows))\n",
    "cv.imshow('dst',dst)\n",
    "cv.waitKey(0)\n",
    "cv.destroyAllWindows()"
   ]
  },
  {
   "cell_type": "code",
   "execution_count": 53,
   "id": "b827f1eb",
   "metadata": {},
   "outputs": [],
   "source": [
    "#Threshold\n",
    "img = cv.imread('images/download (1).jpg')\n",
    "gray = cv.cvtColor(img, cv.COLOR_BGR2GRAY)\n",
    "ret, thresh = cv.threshold(gray, 125, 255, cv.THRESH_BINARY)\n",
    "th2 = cv.adaptiveThreshold(gray,255,cv.ADAPTIVE_THRESH_MEAN_C , cv.THRESH_BINARY,11,2)\n",
    "th3 = cv.adaptiveThreshold(gray,255,cv.ADAPTIVE_THRESH_GAUSSIAN_C , cv.THRESH_BINARY,11,2)\n",
    "cv.imshow('Thresh', thresh)\n",
    "cv.imshow('MEAN_C', th2)\n",
    "cv.imshow('GAUSSIAN_C', th3)\n",
    "\n",
    "cv.waitKey(0)\n",
    "cv.destroyAllWindows()"
   ]
  },
  {
   "cell_type": "code",
   "execution_count": 32,
   "id": "1fdb5513",
   "metadata": {},
   "outputs": [
    {
     "data": {
      "image/png": "[encoded data removed]",
      "text/plain": [
       "<Figure size 432x288 with 6 Axes>"
      ]
     },
     "metadata": {},
     "output_type": "display_data"
    }
   ],
   "source": [
    "import cv2 as cv\n",
    "import numpy as np\n",
    "from matplotlib import pyplot as plt\n",
    "image = cv.imread('images/download (1).jpg')\n",
    "img = cv.cvtColor(image , cv.COLOR_BGR2GRAY)\n",
    "ret,thresh1 = cv.threshold(img,127,255,cv.THRESH_BINARY)\n",
    "ret,thresh2 = cv.threshold(img,127,255,cv.THRESH_BINARY_INV)\n",
    "ret,thresh3 = cv.threshold(img,127,255,cv.THRESH_TRUNC)\n",
    "ret,thresh4 = cv.threshold(img,127,255,cv.THRESH_TOZERO)\n",
    "ret,thresh5 = cv.threshold(img,127,255,cv.THRESH_TOZERO_INV)\n",
    "titles = ['Original Image','BINARY','BINARY_INV','TRUNC','TOZERO','TOZERO_INV']\n",
    "images = [img, thresh1, thresh2, thresh3, thresh4, thresh5]\n",
    "for i in range(6):\n",
    "    plt.subplot(2,3,i+1),plt.imshow(images[i],'gray',vmin=0,vmax=255)\n",
    "    plt.title(titles[i])\n",
    "    plt.xticks([]),plt.yticks([])\n",
    "plt.show()"
   ]
  },
  {
   "cell_type": "code",
   "execution_count": 7,
   "id": "90ffdc8f",
   "metadata": {},
   "outputs": [
    {
     "name": "stdout",
     "output_type": "stream",
     "text": [
      "25 contour(s) found!\n"
     ]
    }
   ],
   "source": [
    "#contours\n",
    "import numpy as np\n",
    "\n",
    "img = cv.imread('images/download (1).jpg')\n",
    "gray = cv.cvtColor(img, cv.COLOR_BGR2GRAY)\n",
    "blur = cv.GaussianBlur(gray, (5,5), cv.BORDER_DEFAULT)\n",
    "canny = cv.Canny(blur, 125, 175)\n",
    "contours, hierarchies = cv.findContours(canny, cv.RETR_LIST, cv.CHAIN_APPROX_SIMPLE)\n",
    "print(f'{len(contours)} contour(s) found!')\n",
    "\n",
    "cv.drawContours(img, contours, -1, (0,0,255), 1)\n",
    "cv.imshow('Contours Drawn', img)\n",
    "\n",
    "cv.waitKey(0)\n",
    "cv.destroyAllWindows()"
   ]
  },
  {
   "cell_type": "code",
   "execution_count": 25,
   "id": "22f7dd76",
   "metadata": {},
   "outputs": [
    {
     "name": "stdout",
     "output_type": "stream",
     "text": [
      "Number of Contours found = 48\n",
      "163 174 3 3\n",
      "89 172 9 5\n",
      "176 170 4 6\n",
      "190 169 2 6\n",
      "130 169 35 8\n",
      "139 167 1 1\n",
      "140 159 8 8\n",
      "215 151 9 8\n",
      "116 151 23 23\n",
      "17 150 1 1\n",
      "222 146 13 10\n",
      "191 146 3 8\n",
      "209 140 6 9\n",
      "189 138 37 37\n",
      "78 137 34 40\n",
      "234 119 9 14\n",
      "205 113 2 2\n",
      "165 64 12 14\n",
      "200 62 11 5\n",
      "202 56 1 1\n",
      "230 52 1 1\n",
      "227 45 3 3\n",
      "189 45 3 1\n",
      "193 43 13 3\n",
      "250 40 4 3\n",
      "180 36 78 140\n",
      "206 36 11 12\n",
      "234 35 6 13\n",
      "186 33 22 18\n",
      "217 32 11 7\n",
      "0 30 264 151\n",
      "204 27 14 10\n",
      "241 26 12 13\n",
      "13 25 182 129\n",
      "215 24 7 9\n",
      "191 23 7 3\n",
      "201 22 15 7\n",
      "193 22 1 1\n",
      "216 20 27 14\n",
      "214 20 1 1\n",
      "187 18 1 1\n",
      "232 15 11 10\n",
      "194 14 17 20\n",
      "210 13 8 8\n",
      "244 11 2 4\n",
      "187 7 2 1\n",
      "227 4 24 28\n",
      "180 1 76 28\n"
     ]
    }
   ],
   "source": [
    "import cv2\n",
    "import numpy as np\n",
    "\n",
    "# Let's load a simple image with 3 black squares\n",
    "image = cv2.imread('images/download (1).jpg')  # test anotherone cc.png\n",
    "cv2.imshow('original image', image)\n",
    "# Grayscale\n",
    "gray = cv2.cvtColor(image, cv2.COLOR_BGR2GRAY)\n",
    "\n",
    "# Find Canny edges\n",
    "edged = cv2.Canny(gray, 30, 200)\n",
    "\n",
    "# Finding Contours\n",
    "# Use a copy of the image e.g. edged.copy()\n",
    "# since findContours alters the image\n",
    "contours, hierarchy = cv2.findContours(edged,cv2.RETR_EXTERNAL, cv2.CHAIN_APPROX_NONE)\n",
    "# print(contours)\n",
    "cv2.imshow('Canny Edges After Contouring', edged)\n",
    "# cv2.waitKey(0)\n",
    "\n",
    "print(\"Number of Contours found = \" + str(len(contours)))\n",
    "for cnt in contours : \n",
    "    x,y,w,h=cv2.boundingRect(cnt)\n",
    "    print(x,y,w,h)\n",
    "    cv2.rectangle(image,(x,y),(x + w , y + h) , (0,255,0),2)\n",
    "# Draw all contours\n",
    "# -1 signifies drawing all contours\n",
    "cv2.drawContours(image, contours, -1, (0, 0, 255), 3)\n",
    "\n",
    "cv2.imshow('Contours', image)\n",
    "cv2.waitKey(0)\n",
    "cv2.destroyAllWindows()"
   ]
  },
  {
   "cell_type": "markdown",
   "id": "ecff74df",
   "metadata": {},
   "source": [
    "### color spaces"
   ]
  },
  {
   "cell_type": "code",
   "execution_count": 39,
   "id": "a33ae4de",
   "metadata": {},
   "outputs": [
    {
     "data": {
      "text/plain": [
       "<matplotlib.image.AxesImage at 0x2a03030f340>"
      ]
     },
     "execution_count": 39,
     "metadata": {},
     "output_type": "execute_result"
    },
    {
     "data": {
      "image/png": "[encoded data removed]",
      "text/plain": [
       "<Figure size 432x288 with 2 Axes>"
      ]
     },
     "metadata": {
      "needs_background": "light"
     },
     "output_type": "display_data"
    }
   ],
   "source": [
    "import matplotlib.pyplot as plt \n",
    "#unexpected result with plt !!!\n",
    "\n",
    "\n",
    "img_cv = cv.imread('images/download (1).jpg')\n",
    "img_plt = plt.imread('images/download (1).jpg')\n",
    "gray = cv.cvtColor(img_plt, cv.COLOR_BGR2GRAY)\n",
    "plt.subplot(1,2,1)\n",
    "plt.imshow(gray)\n",
    "img_plt_BGR = cv.cvtColor(img_plt, cv.COLOR_RGB2BGR)\n",
    "plt.subplot(1,2,2)\n",
    "plt.imshow(img_plt_BGR)"
   ]
  },
  {
   "cell_type": "code",
   "execution_count": 42,
   "id": "22074400",
   "metadata": {},
   "outputs": [],
   "source": [
    "#BGR2HSV\n",
    "img= cv.imread('images/download (1).jpg')\n",
    "hsv = cv.cvtColor(img_plt, cv.COLOR_BGR2HSV)\n",
    "cv.imshow('hsv', hsv)\n",
    "cv.waitKey(0)\n",
    "cv.destroyAllWindows()"
   ]
  },
  {
   "cell_type": "code",
   "execution_count": 41,
   "id": "24d1e1ce",
   "metadata": {},
   "outputs": [],
   "source": [
    "#BGR2LAB\n",
    "img= cv.imread('images/download (1).jpg')\n",
    "lab = cv.cvtColor(img_plt, cv.COLOR_BGR2LAB)\n",
    "cv.imshow('img', lab)\n",
    "cv.waitKey(0)\n",
    "cv.destroyAllWindows()"
   ]
  },
  {
   "cell_type": "code",
   "execution_count": 23,
   "id": "fa0f2140",
   "metadata": {},
   "outputs": [],
   "source": [
    "#split and merge channel\n",
    "import numpy as np\n",
    "\n",
    "img= cv.imread('images/download (1).jpg')\n",
    "blank = np.zeros(img.shape[:2], dtype='uint8')\n",
    "b,g,r = cv.split(img)\n",
    "img_merged = cv.merge([b,g,r])\n",
    "blue = cv.merge([b , blank , blank])\n",
    "green = cv.merge([ blank , g , blank])\n",
    "red = cv.merge([blank , blank , r])\n",
    "cv.imshow('img', img_merged)\n",
    "cv.imshow('blue', blue)\n",
    "cv.imshow('green', green)\n",
    "cv.imshow('red', red)\n",
    "cv.imshow('r', r)\n",
    "cv.imshow('g', g)\n",
    "cv.imshow('b', b)\n",
    "cv.waitKey(0)\n",
    "cv.destroyAllWindows()"
   ]
  },
  {
   "cell_type": "code",
   "execution_count": 28,
   "id": "1eaa212e",
   "metadata": {},
   "outputs": [],
   "source": [
    "################### motion detection \n",
    "import cv2 as cv\n",
    "import numpy as np\n",
    "\n",
    "\n",
    "cap = cv.VideoCapture('videoplayback.mp4')\n",
    "\n",
    "ret, frame1 = cap.read()\n",
    "ret, frame2 = cap.read()\n",
    "\n",
    "\n",
    "while cap.isOpened():\n",
    "    \n",
    "    diff = cv.absdiff(frame1, frame2)\n",
    "    gray = cv.cvtColor(diff, cv.COLOR_BGR2GRAY)\n",
    "    blur = cv.GaussianBlur(gray, (5,5), 0)\n",
    "    _, thresh = cv.threshold(blur, 20, 255, cv.THRESH_BINARY)\n",
    "    dialated = cv.dilate(thresh, (3,3), iterations=3)\n",
    "    contours, hierarchy = cv.findContours(dialated, cv.RETR_TREE, cv.CHAIN_APPROX_NONE)\n",
    "\n",
    "\n",
    "    for contour in contours:\n",
    "        (x, y, w, h) = cv.boundingRect(contour)\n",
    "\n",
    "        if cv.contourArea(contour) < 700 :\n",
    "            continue\n",
    "\n",
    "        cv.rectangle(frame1, (x, y), (x+w, y+h), (0,255,0), 3)\n",
    "        cv.putText(frame1, 'Status: {}'.format('Movement'), (10,40), cv.FONT_HERSHEY_SIMPLEX, 1, (0,0,255), 2)\n",
    "\n",
    "    #cv.drawContours(frame1, contours, -1, (0, 255, 0), 3)\n",
    "\n",
    "\n",
    "\n",
    "    cv.imshow('frame1', frame1)\n",
    "    cv.imshow('diff', diff)\n",
    "#     cv.imshow('gray', gray)\n",
    "#     cv.imshow('blur', blur)\n",
    "#     cv.imshow('thresh', thresh)\n",
    "#     cv.imshow('dialated', dialated)\n",
    "    \n",
    "    \n",
    "    \n",
    "\n",
    "    frame1 = frame2\n",
    "    ret, frame2 = cap.read()\n",
    "\n",
    "    if cv.waitKey(40) == 27 :\n",
    "        break\n",
    "\n",
    "\n",
    "cv.destroyAllWindows()\n",
    "cap.release()"
   ]
  },
  {
   "cell_type": "code",
   "execution_count": 34,
   "id": "775bdcff",
   "metadata": {},
   "outputs": [
    {
     "name": "stdout",
     "output_type": "stream",
     "text": [
      "Note: you may need to restart the kernel to use updated packages.Collecting cmake\n",
      "\n",
      "  Downloading cmake-3.25.0-py2.py3-none-win_amd64.whl (32.6 MB)\n",
      "     ---------------------------------------- 32.6/32.6 MB 1.5 MB/s eta 0:00:00\n",
      "Installing collected packages: cmake\n",
      "Successfully installed cmake-3.25.0\n"
     ]
    }
   ],
   "source": [
    "pip install cmake"
   ]
  },
  {
   "cell_type": "code",
   "execution_count": 40,
   "id": "017d2099",
   "metadata": {},
   "outputs": [],
   "source": [
    "#pip install dlib"
   ]
  },
  {
   "cell_type": "code",
   "execution_count": 39,
   "id": "0bd18225",
   "metadata": {},
   "outputs": [],
   "source": [
    "#pip install face_recognition"
   ]
  },
  {
   "cell_type": "code",
   "execution_count": null,
   "id": "68441982",
   "metadata": {},
   "outputs": [],
   "source": []
  },
  {
   "cell_type": "code",
   "execution_count": null,
   "id": "90b8f740",
   "metadata": {},
   "outputs": [],
   "source": []
  }
 ],
 "metadata": {
  "kernelspec": {
   "display_name": "Python 3 (ipykernel)",
   "language": "python",
   "name": "python3"
  },
  "language_info": {
   "codemirror_mode": {
    "name": "ipython",
    "version": 3
   },
   "file_extension": ".py",
   "mimetype": "text/x-python",
   "name": "python",
   "nbconvert_exporter": "python",
   "pygments_lexer": "ipython3",
   "version": "3.9.12"
  }
 },
 "nbformat": 4,
 "nbformat_minor": 5
}
